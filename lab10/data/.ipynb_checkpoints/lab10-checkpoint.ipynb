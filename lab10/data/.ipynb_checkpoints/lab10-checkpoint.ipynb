{
 "cells": [
  {
   "cell_type": "code",
   "execution_count": 1,
   "metadata": {},
   "outputs": [
    {
     "name": "stdout",
     "output_type": "stream",
     "text": [
      "[29.9, 59.8, 119.5, 239.0, 478.0, 956.0, 1912.0, 3824.0, 7648.0]\n",
      "[-9.917076785, -3.708124861, 2.57274607, 10.08292321, 27.92613764, 10.7333406, 2.719974867, -3.686380109, -9.850551707]\n"
     ]
    }
   ],
   "source": [
    "import pandas as pd\n",
    "\n",
    "first = pd.read_csv('first.csv', names=['f','u_in','u_out','k','lg_k'])\n",
    "first_pts = [float(value) for value in first.f.tolist()[1:]]\n",
    "first_vals = [float(value) for value in first.lg_k.tolist()[1:]]\n",
    "print(first_pts)\n",
    "print(first_vals)"
   ]
  },
  {
   "cell_type": "code",
   "execution_count": 2,
   "metadata": {},
   "outputs": [
    {
     "name": "stdout",
     "output_type": "stream",
     "text": [
      "[62.5, 125.0, 250.0, 500.0, 1000.0, 2000.0, 4000.0, 8000.0, 16000.0]\n",
      "[-8.772285146, -2.585202213, 3.87640052, 11.82494244, 29.82911414, 11.8470102, 3.971278015, -2.518492989, -8.635965519]\n"
     ]
    }
   ],
   "source": [
    "second = pd.read_csv('second.csv', names=['f','u_in','u_out','k','lg_k'])\n",
    "second_pts = [float(value) for value in second.f.tolist()[1:]]\n",
    "second_vals = [float(value) for value in second.lg_k.tolist()[1:]]\n",
    "print(second_pts)\n",
    "print(second_vals)"
   ]
  },
  {
   "cell_type": "code",
   "execution_count": 32,
   "metadata": {},
   "outputs": [
    {
     "name": "stdout",
     "output_type": "stream",
     "text": [
      "[181.0, 241.0, 361.0, 542.0, 722.0, 1084.0, 1445.0, 2167.0, 2890.0]\n"
     ]
    }
   ],
   "source": [
    "both = pd.read_csv('both.csv', names=['f','u_in','u_out','k','lg_k'])\n",
    "both_pts= [float(value) for value in both.f.tolist()[1:]]\n",
    "print(both_pts)"
   ]
  },
  {
   "cell_type": "code",
   "execution_count": 3,
   "metadata": {
    "collapsed": true
   },
   "outputs": [],
   "source": [
    "from scipy.interpolate import interp1d\n",
    "\n",
    "f1 = interp1d(first_pts, first_vals, bounds_error=False)\n",
    "f2 = interp1d(second_pts, second_vals, bounds_error=False)\n",
    "\n",
    "def f(x):\n",
    "    return f1(x) + f2(x)"
   ]
  },
  {
   "cell_type": "code",
   "execution_count": 33,
   "metadata": {},
   "outputs": [
    {
     "name": "stdout",
     "output_type": "stream",
     "text": [
      "[181.0, 241.0, 361.0, 542.0, 722.0, 1084.0, 1445.0, 2167.0, 2890.0]\n",
      "[  6.74741212  13.64340394  26.59672806  38.96146605  38.96869282\n",
      "  37.97903875  28.46153162  13.05495739   7.78539347]\n"
     ]
    }
   ],
   "source": [
    "#both_pts = np.logspace(6, 12, base=2, num=100)\n",
    "print(both_pts)\n",
    "print(f(both_pts))"
   ]
  },
  {
   "cell_type": "code",
   "execution_count": 34,
   "metadata": {},
   "outputs": [
    {
     "data": {
      "image/png": "[encoded data removed]",
      "text/plain": [
       "<matplotlib.figure.Figure at 0x229ab075518>"
      ]
     },
     "metadata": {},
     "output_type": "display_data"
    }
   ],
   "source": [
    "import matplotlib.pyplot as plt\n",
    "\n",
    "plt.plot(first_pts, f1(first_pts))\n",
    "plt.plot(second_pts, f2(second_pts))\n",
    "plt.plot(both_pts, f(both_pts))\n",
    "plt.xscale('log')\n",
    "plt.show()"
   ]
  },
  {
   "cell_type": "code",
   "execution_count": 35,
   "metadata": {},
   "outputs": [],
   "source": [
    "s = pd.Series(f(both_pts), index=both_pts, name='lg_k')\n",
    "s.index.name = 'f'\n",
    "s.to_csv('both_theory.csv', header=True)"
   ]
  },
  {
   "cell_type": "code",
   "execution_count": 36,
   "metadata": {},
   "outputs": [
    {
     "data": {
      "text/plain": [
       "f\n",
       "181.0      6.747412\n",
       "241.0     13.643404\n",
       "361.0     26.596728\n",
       "542.0     38.961466\n",
       "722.0     38.968693\n",
       "1084.0    37.979039\n",
       "1445.0    28.461532\n",
       "2167.0    13.054957\n",
       "2890.0     7.785393\n",
       "Name: lg_k, dtype: float64"
      ]
     },
     "execution_count": 36,
     "metadata": {},
     "output_type": "execute_result"
    }
   ],
   "source": [
    "s"
   ]
  }
 ],
 "metadata": {
  "kernelspec": {
   "display_name": "Python 3",
   "language": "python",
   "name": "python3"
  },
  "language_info": {
   "codemirror_mode": {
    "name": "ipython",
    "version": 3
   },
   "file_extension": ".py",
   "mimetype": "text/x-python",
   "name": "python",
   "nbconvert_exporter": "python",
   "pygments_lexer": "ipython3",
   "version": "3.5.2"
  }
 },
 "nbformat": 4,
 "nbformat_minor": 2
}
